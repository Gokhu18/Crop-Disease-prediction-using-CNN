{
 "cells": [
  {
   "cell_type": "code",
   "execution_count": 1,
   "metadata": {},
   "outputs": [
    {
     "name": "stderr",
     "output_type": "stream",
     "text": [
      "Using TensorFlow backend.\n"
     ]
    }
   ],
   "source": [
    "\n",
    "#import keras libraries\n",
    "from keras.models import Sequential\n",
    "from keras.layers import Dense\n",
    "from keras.layers import Conv2D\n",
    "from keras.layers import MaxPooling2D\n",
    "from keras.layers import Flatten "
   ]
  },
  {
   "cell_type": "code",
   "execution_count": 2,
   "metadata": {},
   "outputs": [],
   "source": [
    "model=Sequential()"
   ]
  },
  {
   "cell_type": "code",
   "execution_count": 3,
   "metadata": {},
   "outputs": [
    {
     "name": "stdout",
     "output_type": "stream",
     "text": [
      "WARNING:tensorflow:From C:\\Users\\shrey\\Anaconda3\\lib\\site-packages\\tensorflow\\python\\framework\\op_def_library.py:263: colocate_with (from tensorflow.python.framework.ops) is deprecated and will be removed in a future version.\n",
      "Instructions for updating:\n",
      "Colocations handled automatically by placer.\n"
     ]
    }
   ],
   "source": [
    "model.add(Conv2D(32,(3,3),input_shape=(128,128,3),activation='relu'))\n",
    "model.add(Conv2D(32,(3,3),input_shape=(128,128,3),activation='relu'))\n",
    "model.add(MaxPooling2D(pool_size=(2,2)))\n",
    "model.add(MaxPooling2D(pool_size=(2,2)))\n",
    "model.add(Flatten())\n",
    "\n"
   ]
  },
  {
   "cell_type": "code",
   "execution_count": 4,
   "metadata": {},
   "outputs": [
    {
     "name": "stderr",
     "output_type": "stream",
     "text": [
      "C:\\Users\\shrey\\Anaconda3\\lib\\site-packages\\ipykernel_launcher.py:1: UserWarning: Update your `Dense` call to the Keras 2 API: `Dense(activation=\"relu\", units=250, kernel_initializer=\"random_uniform\")`\n",
      "  \"\"\"Entry point for launching an IPython kernel.\n"
     ]
    }
   ],
   "source": [
    "model.add(Dense(output_dim=250,activation='relu',init='random_uniform'))"
   ]
  },
  {
   "cell_type": "code",
   "execution_count": 5,
   "metadata": {},
   "outputs": [
    {
     "name": "stderr",
     "output_type": "stream",
     "text": [
      "C:\\Users\\shrey\\Anaconda3\\lib\\site-packages\\ipykernel_launcher.py:1: UserWarning: Update your `Dense` call to the Keras 2 API: `Dense(activation=\"softmax\", units=5, kernel_initializer=\"random_uniform\")`\n",
      "  \"\"\"Entry point for launching an IPython kernel.\n"
     ]
    }
   ],
   "source": [
    "model.add(Dense(output_dim=5,activation='softmax',init='random_uniform'))"
   ]
  },
  {
   "cell_type": "code",
   "execution_count": 6,
   "metadata": {},
   "outputs": [],
   "source": [
    "model.compile(optimizer='adam',loss='categorical_crossentropy',metrics=['accuracy'])"
   ]
  },
  {
   "cell_type": "code",
   "execution_count": 7,
   "metadata": {},
   "outputs": [],
   "source": [
    "from keras.preprocessing.image import ImageDataGenerator"
   ]
  },
  {
   "cell_type": "code",
   "execution_count": 8,
   "metadata": {},
   "outputs": [],
   "source": [
    "train_datagen=ImageDataGenerator(rescale=1./255,shear_range=0.2,zoom_range=0.2,horizontal_flip=True)#features are stored\n",
    "test_datagen = ImageDataGenerator(rescale=1./255)"
   ]
  },
  {
   "cell_type": "code",
   "execution_count": 9,
   "metadata": {},
   "outputs": [
    {
     "name": "stdout",
     "output_type": "stream",
     "text": [
      "Found 1284 images belonging to 5 classes.\n",
      "Found 395 images belonging to 5 classes.\n"
     ]
    }
   ],
   "source": [
    "x_train = train_datagen.flow_from_directory(r'E:\\SmartBridge\\ProjectWork\\dataset\\training_set',target_size=(128,128),batch_size=32,class_mode='categorical')\n",
    "x_test = train_datagen.flow_from_directory(r'E:\\SmartBridge\\ProjectWork\\dataset\\test_set',target_size=(128,128),batch_size=32,class_mode='categorical') #more than 2 classes then it is catagorical"
   ]
  },
  {
   "cell_type": "code",
   "execution_count": 10,
   "metadata": {},
   "outputs": [
    {
     "name": "stdout",
     "output_type": "stream",
     "text": [
      "{'blight': 0, 'healthy leaf': 1, 'mildew': 2, 'rust': 3, 'tarspot': 4}\n"
     ]
    }
   ],
   "source": [
    "print(x_train.class_indices)"
   ]
  },
  {
   "cell_type": "code",
   "execution_count": 12,
   "metadata": {},
   "outputs": [
    {
     "name": "stderr",
     "output_type": "stream",
     "text": [
      "C:\\Users\\shrey\\Anaconda3\\lib\\site-packages\\ipykernel_launcher.py:1: UserWarning: The semantics of the Keras 2 argument `steps_per_epoch` is not the same as the Keras 1 argument `samples_per_epoch`. `steps_per_epoch` is the number of batches to draw from the generator at each epoch. Basically steps_per_epoch = samples_per_epoch/batch_size. Similarly `nb_val_samples`->`validation_steps` and `val_samples`->`steps` arguments have changed. Update your method calls accordingly.\n",
      "  \"\"\"Entry point for launching an IPython kernel.\n",
      "C:\\Users\\shrey\\Anaconda3\\lib\\site-packages\\ipykernel_launcher.py:1: UserWarning: Update your `fit_generator` call to the Keras 2 API: `fit_generator(<keras_pre..., epochs=30, validation_data=<keras_pre..., steps_per_epoch=40, validation_steps=395)`\n",
      "  \"\"\"Entry point for launching an IPython kernel.\n"
     ]
    },
    {
     "name": "stdout",
     "output_type": "stream",
     "text": [
      "Epoch 1/30\n",
      "40/40 [==============================] - 198s 5s/step - loss: 1.2470 - acc: 0.4875 - val_loss: 1.3532 - val_acc: 0.4226\n",
      "Epoch 2/30\n",
      "40/40 [==============================] - 188s 5s/step - loss: 1.1591 - acc: 0.5178 - val_loss: 1.2215 - val_acc: 0.4932\n",
      "Epoch 3/30\n",
      "40/40 [==============================] - 195s 5s/step - loss: 1.1213 - acc: 0.5258 - val_loss: 1.3533 - val_acc: 0.4205\n",
      "Epoch 4/30\n",
      "40/40 [==============================] - 192s 5s/step - loss: 1.0661 - acc: 0.5687 - val_loss: 1.2428 - val_acc: 0.4891\n",
      "Epoch 5/30\n",
      "40/40 [==============================] - 193s 5s/step - loss: 0.9722 - acc: 0.6015 - val_loss: 1.1914 - val_acc: 0.5251\n",
      "Epoch 6/30\n",
      "40/40 [==============================] - 193s 5s/step - loss: 0.9548 - acc: 0.6070 - val_loss: 1.2557 - val_acc: 0.4933\n",
      "Epoch 7/30\n",
      "40/40 [==============================] - 193s 5s/step - loss: 0.9002 - acc: 0.6243 - val_loss: 1.4110 - val_acc: 0.4656\n",
      "Epoch 8/30\n",
      "40/40 [==============================] - 190s 5s/step - loss: 0.9091 - acc: 0.6268 - val_loss: 1.2510 - val_acc: 0.4849\n",
      "Epoch 9/30\n",
      "40/40 [==============================] - 189s 5s/step - loss: 0.8332 - acc: 0.6757 - val_loss: 1.2833 - val_acc: 0.5168\n",
      "Epoch 10/30\n",
      "40/40 [==============================] - 186s 5s/step - loss: 0.7988 - acc: 0.6721 - val_loss: 1.2433 - val_acc: 0.5266\n",
      "Epoch 11/30\n",
      "40/40 [==============================] - 188s 5s/step - loss: 0.7328 - acc: 0.7186 - val_loss: 1.2749 - val_acc: 0.5216\n",
      "Epoch 12/30\n",
      "40/40 [==============================] - 185s 5s/step - loss: 0.6562 - acc: 0.7484 - val_loss: 1.1758 - val_acc: 0.5913\n",
      "Epoch 13/30\n",
      "40/40 [==============================] - 189s 5s/step - loss: 0.6508 - acc: 0.7361 - val_loss: 1.2499 - val_acc: 0.5813\n",
      "Epoch 14/30\n",
      "40/40 [==============================] - 190s 5s/step - loss: 0.5828 - acc: 0.7883 - val_loss: 1.2900 - val_acc: 0.5558\n",
      "Epoch 15/30\n",
      "40/40 [==============================] - 187s 5s/step - loss: 0.4838 - acc: 0.8421 - val_loss: 1.4162 - val_acc: 0.5647\n",
      "Epoch 16/30\n",
      "40/40 [==============================] - 184s 5s/step - loss: 0.5253 - acc: 0.8056 - val_loss: 1.4500 - val_acc: 0.5729\n",
      "Epoch 17/30\n",
      "40/40 [==============================] - 190s 5s/step - loss: 0.5206 - acc: 0.8039 - val_loss: 1.3754 - val_acc: 0.5810\n",
      "Epoch 18/30\n",
      "40/40 [==============================] - 188s 5s/step - loss: 0.3837 - acc: 0.8616 - val_loss: 1.3919 - val_acc: 0.5448\n",
      "Epoch 19/30\n",
      "40/40 [==============================] - 186s 5s/step - loss: 0.4040 - acc: 0.8485 - val_loss: 1.4584 - val_acc: 0.5768\n",
      "Epoch 20/30\n",
      "40/40 [==============================] - 191s 5s/step - loss: 0.3736 - acc: 0.8624 - val_loss: 1.5599 - val_acc: 0.5538\n",
      "Epoch 21/30\n",
      "40/40 [==============================] - 191s 5s/step - loss: 0.3266 - acc: 0.8798 - val_loss: 1.8371 - val_acc: 0.5425\n",
      "Epoch 22/30\n",
      "40/40 [==============================] - 190s 5s/step - loss: 0.3127 - acc: 0.8938 - val_loss: 1.6968 - val_acc: 0.5788\n",
      "Epoch 23/30\n",
      "40/40 [==============================] - 186s 5s/step - loss: 0.3684 - acc: 0.8758 - val_loss: 1.4707 - val_acc: 0.5774\n",
      "Epoch 24/30\n",
      "40/40 [==============================] - 198s 5s/step - loss: 0.2945 - acc: 0.9063 - val_loss: 1.5367 - val_acc: 0.5874\n",
      "Epoch 25/30\n",
      "40/40 [==============================] - 194s 5s/step - loss: 0.2609 - acc: 0.9203 - val_loss: 1.5340 - val_acc: 0.6033\n",
      "Epoch 26/30\n",
      "40/40 [==============================] - 187s 5s/step - loss: 0.2617 - acc: 0.9063 - val_loss: 1.7317 - val_acc: 0.5837\n",
      "Epoch 27/30\n",
      "40/40 [==============================] - 187s 5s/step - loss: 0.2312 - acc: 0.9140 - val_loss: 1.8376 - val_acc: 0.5833\n",
      "Epoch 28/30\n",
      "40/40 [==============================] - 193s 5s/step - loss: 0.1428 - acc: 0.9476 - val_loss: 1.7975 - val_acc: 0.6018\n",
      "Epoch 29/30\n",
      "40/40 [==============================] - 132s 3s/step - loss: 0.1772 - acc: 0.9437 - val_loss: 1.8530 - val_acc: 0.5654\n",
      "Epoch 30/30\n",
      "40/40 [==============================] - 127s 3s/step - loss: 0.1681 - acc: 0.9398 - val_loss: 2.0259 - val_acc: 0.5850\n"
     ]
    },
    {
     "data": {
      "text/plain": [
       "<keras.callbacks.History at 0x259daf69710>"
      ]
     },
     "execution_count": 12,
     "metadata": {},
     "output_type": "execute_result"
    }
   ],
   "source": [
    "model.fit_generator(x_train,samples_per_epoch =1284,epochs=30,validation_data=x_test,nb_val_samples=395)\n",
    "    "
   ]
  },
  {
   "cell_type": "code",
   "execution_count": 13,
   "metadata": {},
   "outputs": [],
   "source": [
    "model.save('mymodel2.h5')# this will save the weights,for keras h5 is extension (for deep learning)"
   ]
  },
  {
   "cell_type": "code",
   "execution_count": null,
   "metadata": {},
   "outputs": [],
   "source": []
  }
 ],
 "metadata": {
  "kernelspec": {
   "display_name": "Python 3",
   "language": "python",
   "name": "python3"
  },
  "language_info": {
   "codemirror_mode": {
    "name": "ipython",
    "version": 3
   },
   "file_extension": ".py",
   "mimetype": "text/x-python",
   "name": "python",
   "nbconvert_exporter": "python",
   "pygments_lexer": "ipython3",
   "version": "3.7.3"
  }
 },
 "nbformat": 4,
 "nbformat_minor": 2
}
